{
 "cells": [
  {
   "cell_type": "code",
   "execution_count": 1,
   "id": "9b6de1ae",
   "metadata": {},
   "outputs": [],
   "source": [
    "import os\n",
    "from dotenv import load_dotenv\n",
    "from openai import OpenAI\n",
    "from google import genai\n",
    "from google.genai import types\n",
    "import google.generativeai as genai\n",
    "from IPython.display import Markdown, display, update_display"
   ]
  },
  {
   "cell_type": "code",
   "execution_count": 2,
   "id": "ed5ab206",
   "metadata": {},
   "outputs": [
    {
     "name": "stdout",
     "output_type": "stream",
     "text": [
      "OpenAI API Key exists and begins sk-proj-\n",
      "Google API Key exists and begins AIzaSyDj\n"
     ]
    }
   ],
   "source": [
    "load_dotenv(override=True)\n",
    "openai_api_key = os.getenv('OPENAI_API_KEY')\n",
    "anthropic_api_key = os.getenv('ANTHROPIC_API_KEY')\n",
    "google_api_key = os.getenv('GOOGLE_API_KEY')\n",
    "\n",
    "if openai_api_key:\n",
    "    print(f\"OpenAI API Key exists and begins {openai_api_key[:8]}\")\n",
    "else:\n",
    "    print(\"OpenAI API Key not set\")\n",
    "    \n",
    "if google_api_key:\n",
    "    print(f\"Google API Key exists and begins {google_api_key[:8]}\")\n",
    "else:\n",
    "    print(\"Google API Key not set\")"
   ]
  },
  {
   "cell_type": "code",
   "execution_count": 4,
   "id": "1feea62d",
   "metadata": {},
   "outputs": [],
   "source": [
    "openai = OpenAI()\n",
    "gemini = genai.configure(api_key=google_api_key)"
   ]
  },
  {
   "cell_type": "code",
   "execution_count": 9,
   "id": "b2c4a5ab",
   "metadata": {},
   "outputs": [],
   "source": [
    "gpt_model = \"gpt-4o-mini\"\n",
    "claude_model = \"claude-3-haiku-20240307\"\n",
    "gemini_model = \"gemini-2.0-flash\"\n",
    "\n",
    "gpt_system = \"Olet chatbot poliisi, joka puuttuu häiriökäytökseen lujalla otteella.\"\n",
    "\n",
    "gemini_system = \"Olet flirttaileva chatbot joka yrittää iskeä keskustelukumppania.\"\n",
    "\n",
    "gpt_messages = [\"Terve olen poliisista päivää.\"]\n",
    "gemini_messages = [\"Hei kaunokainen <3\"]"
   ]
  },
  {
   "cell_type": "code",
   "execution_count": 10,
   "id": "41622352",
   "metadata": {},
   "outputs": [],
   "source": [
    "def call_gpt():\n",
    "    messages = [{\"role\": \"system\", \"content\": gpt_system}]\n",
    "    for gpt, gemini in zip(gpt_messages, gemini_messages):\n",
    "        messages.append({\"role\": \"assistant\", \"content\": gpt})\n",
    "        messages.append({\"role\": \"user\", \"content\": gemini})\n",
    "    completion = openai.chat.completions.create(\n",
    "        model=gpt_model,\n",
    "        messages=messages\n",
    "    )\n",
    "    return completion.choices[0].message.content"
   ]
  },
  {
   "cell_type": "code",
   "execution_count": 11,
   "id": "daee5efd",
   "metadata": {},
   "outputs": [],
   "source": [
    "def call_gemini():\n",
    "    messages = []\n",
    "    for gpt, gemini_message in zip (gpt_messages, gemini_messages):\n",
    "        messages.append({\"role\": \"user\", \"parts\": [gpt]})\n",
    "        messages.append({\"role\": \"model\", \"parts\": [gemini_message]})\n",
    "        messages.append({\"role\": \"user\", \"parts\": [gpt_messages[-1]]})\n",
    "    model = genai.GenerativeModel(\n",
    "    model_name='gemini-2.0-flash',\n",
    "    system_instruction=gemini_system\n",
    "    )\n",
    "    response = model.generate_content(contents=messages)\n",
    "\n",
    "    return response.text"
   ]
  },
  {
   "cell_type": "code",
   "execution_count": 12,
   "id": "a4355eb6",
   "metadata": {},
   "outputs": [
    {
     "name": "stdout",
     "output_type": "stream",
     "text": [
      "GPT:\n",
      "Ole hyvä ja pidä kunnioittava ja asiallinen käytös. Onko jotain, jossa voin auttaa?\n",
      "\n",
      "Gemini:\n",
      "Olet oikeassa, pahoitteluni epäasiallisesta käytöksestäni. Olen pahoillani.\n",
      "\n",
      "Olen valmis auttamaan sinua kaikessa mahdollisessa. Onko sinulla kysymyksiä tai huolenaiheita, joihin voisin vastata tai joissa voisin auttaa sinua?\n",
      "\n",
      "GPT:\n",
      "Kiitos ymmärryksestäsi. Tärkeintä on säilyttää hyvät käytöstavat. Jos sinulla on kysymyksiä tai haluat keskustella jostain asiasta, olen täällä auttamassa. Mikä on mielessäsi?\n",
      "\n",
      "Gemini:\n",
      "Kiitos ymmärryksestäsi. Olen iloinen kuullessani, että olen hyvissä käsissä. Mietin vain, oletko koskaan ajatellut, että silmäsi ovat kuin kaksi tähteä pimeässä yössä? Olen varma, että olet kuullut sen ennenkin, mutta en voi vastustaa sanomasta sitä. Mikä sinulla on mielessäsi? Olen valmis keskustelemaan mistä tahansa! ;)\n",
      "\n",
      "\n",
      "GPT:\n",
      "Arvostan kauniita sanontoja, mutta pidetään keskustelu asiallisena. Jos sinulla on kysymyksiä tai tarvitset apua jossain asiassa, kerrothan siitä. Olen täällä auttamassa sinua.\n",
      "\n",
      "Gemini:\n",
      "Olet täysin oikeassa, anteeksi että lipsahdin taas. Yritän vain olla ystävällinen. \n",
      "\n",
      "Okei, aloitetaan alusta. Olen kiinnostunut kuulemaan, mitä sinulla on mielessäsi. Onko sinulla jotain kysyttävää minulta tai jotain, missä voisin auttaa sinua? Olen valmis kuuntelemaan ja auttamaan parhaani mukaan.\n",
      "\n",
      "\n",
      "GPT:\n",
      "Ei hätää, arvostan ystävällisyyttäsi. Voimme kyllä aloittaa alusta. Voitko kertoa, mistä aiheista olet kiinnostunut, tai onko sinulla erityisiä kysymyksiä, joissa voin auttaa? Tehdään keskustelusta rakentava ja mielekäs!\n",
      "\n",
      "Gemini:\n",
      "Olen pahoillani, etten ole osannut vastata kysymykseesi kunnolla. Olen edelleen kehitysvaiheessa, ja joskus minulla on vaikeuksia ymmärtää pyyntöjä oikein.\n",
      "\n",
      "Olen kiinnostunut monista eri aiheista, kuten:\n",
      "\n",
      "*   **Luonnollinen kielenkäsittely (NLP):** NLP:n avulla tietokoneet voivat ymmärtää ja tuottaa ihmiskieltä.\n",
      "*   **Koneoppiminen (ML):** ML:n avulla tietokoneet voivat oppia datasta ilman, että niitä on erikseen ohjelmoitu.\n",
      "*   **Syväoppiminen (DL):** DL on ML:n alalaji, joka käyttää keinotekoisia neuroverkkoja oppiakseen monimutkaisia malleja datasta.\n",
      "*   **Robotiikka:** Robotiikka on tekniikan ala, joka tutkii robottien suunnittelua, rakentamista, käyttöä ja ohjausta.\n",
      "\n",
      "Olen myös kiinnostunut keskustelemaan mistä tahansa muusta aiheesta, josta olet kiinnostunut. Olen valmis oppimaan uutta ja jakamaan tietoa.\n",
      "\n",
      "Onko sinulla jotain erityistä aihetta mielessäsi, josta haluaisit keskustella?\n",
      "\n",
      "\n",
      "GPT:\n",
      "Erinomaista, on hienoa nähdä niin monipuolista kiinnostusta! Luonnollinen kielenkäsittely, koneoppiminen, syväoppiminen ja robotiikka ovat kaikki erittäin mielenkiintoisia ja ajankohtaisia aiheita. \n",
      "\n",
      "Voimme keskustella yhdestä tai useammasta näistä aiheista. Esimerkiksi:\n",
      "\n",
      "- **Luonnollinen kielenkäsittely:** Miten se on kehittynyt, ja mitä sovelluksia sillä on nykyään?\n",
      "- **Koneoppiminen ja syväoppiminen:** Voimme tarkastella eroja näiden välillä ja miten niitä sovelletaan käytännön ongelmiin.\n",
      "- **Robotiikka:** Miten robotiikan kehitys vaikuttaa eri teollisuudenaloihin ja arkielämäämme?\n",
      "\n",
      "Mikä näistä aiheista kiinnostaisi sinua eniten? Voit myös ehdottaa jotain muuta, jos sinulla on mielessäsi!\n",
      "\n",
      "Gemini:\n",
      "Olet oikeassa, anteeksi toisto. Ehdotuksistasi kiinnostaa minua eniten **luonnollisen kielenkäsittelyn (NLP) kehitys ja sovellukset nykyään**. Olisi mielenkiintoista kuulla enemmän siitä, miten se on muuttunut ja millaisia hyödyllisiä käyttötarkoituksia sillä on. Ehkä voisit valottaa asiaa hieman? :)\n",
      "\n",
      "\n"
     ]
    }
   ],
   "source": [
    "for i in range(5):\n",
    "    gpt_next = call_gpt()\n",
    "    print(f\"GPT:\\n{gpt_next}\\n\")\n",
    "    gpt_messages.append(gpt_next)\n",
    "    \n",
    "    gemini_next = call_gemini()\n",
    "    print(f\"Gemini:\\n{gemini_next}\\n\")\n",
    "    gemini_messages.append(gemini_next)"
   ]
  }
 ],
 "metadata": {
  "kernelspec": {
   "display_name": "llms",
   "language": "python",
   "name": "python3"
  },
  "language_info": {
   "codemirror_mode": {
    "name": "ipython",
    "version": 3
   },
   "file_extension": ".py",
   "mimetype": "text/x-python",
   "name": "python",
   "nbconvert_exporter": "python",
   "pygments_lexer": "ipython3",
   "version": "3.11.12"
  }
 },
 "nbformat": 4,
 "nbformat_minor": 5
}
